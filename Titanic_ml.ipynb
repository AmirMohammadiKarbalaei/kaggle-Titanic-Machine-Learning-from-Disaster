{
 "cells": [
  {
   "cell_type": "code",
   "execution_count": 67,
   "id": "0d812090",
   "metadata": {},
   "outputs": [],
   "source": [
    "import pandas as pd\n",
    "import numpy as np\n",
    "from sklearn.tree import DecisionTreeClassifier\n",
    "from sklearn.model_selection import train_test_split\n",
    "from sklearn.metrics import accuracy_score\n",
    "from sklearn import tree"
   ]
  },
  {
   "cell_type": "code",
   "execution_count": null,
   "id": "c3a86ae7",
   "metadata": {},
   "outputs": [],
   "source": []
  },
  {
   "cell_type": "code",
   "execution_count": 68,
   "id": "86234e59",
   "metadata": {},
   "outputs": [
    {
     "data": {
      "text/html": [
       "<div>\n",
       "<style scoped>\n",
       "    .dataframe tbody tr th:only-of-type {\n",
       "        vertical-align: middle;\n",
       "    }\n",
       "\n",
       "    .dataframe tbody tr th {\n",
       "        vertical-align: top;\n",
       "    }\n",
       "\n",
       "    .dataframe thead th {\n",
       "        text-align: right;\n",
       "    }\n",
       "</style>\n",
       "<table border=\"1\" class=\"dataframe\">\n",
       "  <thead>\n",
       "    <tr style=\"text-align: right;\">\n",
       "      <th></th>\n",
       "      <th>PassengerId</th>\n",
       "      <th>Survived</th>\n",
       "      <th>Pclass</th>\n",
       "      <th>Name</th>\n",
       "      <th>Sex</th>\n",
       "      <th>Age</th>\n",
       "      <th>SibSp</th>\n",
       "      <th>Parch</th>\n",
       "      <th>Ticket</th>\n",
       "      <th>Fare</th>\n",
       "      <th>Cabin</th>\n",
       "      <th>Embarked</th>\n",
       "    </tr>\n",
       "  </thead>\n",
       "  <tbody>\n",
       "    <tr>\n",
       "      <th>0</th>\n",
       "      <td>1</td>\n",
       "      <td>0</td>\n",
       "      <td>3</td>\n",
       "      <td>Braund, Mr. Owen Harris</td>\n",
       "      <td>male</td>\n",
       "      <td>22.0</td>\n",
       "      <td>1</td>\n",
       "      <td>0</td>\n",
       "      <td>A/5 21171</td>\n",
       "      <td>7.2500</td>\n",
       "      <td>NaN</td>\n",
       "      <td>S</td>\n",
       "    </tr>\n",
       "    <tr>\n",
       "      <th>1</th>\n",
       "      <td>2</td>\n",
       "      <td>1</td>\n",
       "      <td>1</td>\n",
       "      <td>Cumings, Mrs. John Bradley (Florence Briggs Th...</td>\n",
       "      <td>female</td>\n",
       "      <td>38.0</td>\n",
       "      <td>1</td>\n",
       "      <td>0</td>\n",
       "      <td>PC 17599</td>\n",
       "      <td>71.2833</td>\n",
       "      <td>C85</td>\n",
       "      <td>C</td>\n",
       "    </tr>\n",
       "    <tr>\n",
       "      <th>2</th>\n",
       "      <td>3</td>\n",
       "      <td>1</td>\n",
       "      <td>3</td>\n",
       "      <td>Heikkinen, Miss. Laina</td>\n",
       "      <td>female</td>\n",
       "      <td>26.0</td>\n",
       "      <td>0</td>\n",
       "      <td>0</td>\n",
       "      <td>STON/O2. 3101282</td>\n",
       "      <td>7.9250</td>\n",
       "      <td>NaN</td>\n",
       "      <td>S</td>\n",
       "    </tr>\n",
       "    <tr>\n",
       "      <th>3</th>\n",
       "      <td>4</td>\n",
       "      <td>1</td>\n",
       "      <td>1</td>\n",
       "      <td>Futrelle, Mrs. Jacques Heath (Lily May Peel)</td>\n",
       "      <td>female</td>\n",
       "      <td>35.0</td>\n",
       "      <td>1</td>\n",
       "      <td>0</td>\n",
       "      <td>113803</td>\n",
       "      <td>53.1000</td>\n",
       "      <td>C123</td>\n",
       "      <td>S</td>\n",
       "    </tr>\n",
       "    <tr>\n",
       "      <th>4</th>\n",
       "      <td>5</td>\n",
       "      <td>0</td>\n",
       "      <td>3</td>\n",
       "      <td>Allen, Mr. William Henry</td>\n",
       "      <td>male</td>\n",
       "      <td>35.0</td>\n",
       "      <td>0</td>\n",
       "      <td>0</td>\n",
       "      <td>373450</td>\n",
       "      <td>8.0500</td>\n",
       "      <td>NaN</td>\n",
       "      <td>S</td>\n",
       "    </tr>\n",
       "    <tr>\n",
       "      <th>...</th>\n",
       "      <td>...</td>\n",
       "      <td>...</td>\n",
       "      <td>...</td>\n",
       "      <td>...</td>\n",
       "      <td>...</td>\n",
       "      <td>...</td>\n",
       "      <td>...</td>\n",
       "      <td>...</td>\n",
       "      <td>...</td>\n",
       "      <td>...</td>\n",
       "      <td>...</td>\n",
       "      <td>...</td>\n",
       "    </tr>\n",
       "    <tr>\n",
       "      <th>886</th>\n",
       "      <td>887</td>\n",
       "      <td>0</td>\n",
       "      <td>2</td>\n",
       "      <td>Montvila, Rev. Juozas</td>\n",
       "      <td>male</td>\n",
       "      <td>27.0</td>\n",
       "      <td>0</td>\n",
       "      <td>0</td>\n",
       "      <td>211536</td>\n",
       "      <td>13.0000</td>\n",
       "      <td>NaN</td>\n",
       "      <td>S</td>\n",
       "    </tr>\n",
       "    <tr>\n",
       "      <th>887</th>\n",
       "      <td>888</td>\n",
       "      <td>1</td>\n",
       "      <td>1</td>\n",
       "      <td>Graham, Miss. Margaret Edith</td>\n",
       "      <td>female</td>\n",
       "      <td>19.0</td>\n",
       "      <td>0</td>\n",
       "      <td>0</td>\n",
       "      <td>112053</td>\n",
       "      <td>30.0000</td>\n",
       "      <td>B42</td>\n",
       "      <td>S</td>\n",
       "    </tr>\n",
       "    <tr>\n",
       "      <th>888</th>\n",
       "      <td>889</td>\n",
       "      <td>0</td>\n",
       "      <td>3</td>\n",
       "      <td>Johnston, Miss. Catherine Helen \"Carrie\"</td>\n",
       "      <td>female</td>\n",
       "      <td>NaN</td>\n",
       "      <td>1</td>\n",
       "      <td>2</td>\n",
       "      <td>W./C. 6607</td>\n",
       "      <td>23.4500</td>\n",
       "      <td>NaN</td>\n",
       "      <td>S</td>\n",
       "    </tr>\n",
       "    <tr>\n",
       "      <th>889</th>\n",
       "      <td>890</td>\n",
       "      <td>1</td>\n",
       "      <td>1</td>\n",
       "      <td>Behr, Mr. Karl Howell</td>\n",
       "      <td>male</td>\n",
       "      <td>26.0</td>\n",
       "      <td>0</td>\n",
       "      <td>0</td>\n",
       "      <td>111369</td>\n",
       "      <td>30.0000</td>\n",
       "      <td>C148</td>\n",
       "      <td>C</td>\n",
       "    </tr>\n",
       "    <tr>\n",
       "      <th>890</th>\n",
       "      <td>891</td>\n",
       "      <td>0</td>\n",
       "      <td>3</td>\n",
       "      <td>Dooley, Mr. Patrick</td>\n",
       "      <td>male</td>\n",
       "      <td>32.0</td>\n",
       "      <td>0</td>\n",
       "      <td>0</td>\n",
       "      <td>370376</td>\n",
       "      <td>7.7500</td>\n",
       "      <td>NaN</td>\n",
       "      <td>Q</td>\n",
       "    </tr>\n",
       "  </tbody>\n",
       "</table>\n",
       "<p>891 rows × 12 columns</p>\n",
       "</div>"
      ],
      "text/plain": [
       "     PassengerId  Survived  Pclass  \\\n",
       "0              1         0       3   \n",
       "1              2         1       1   \n",
       "2              3         1       3   \n",
       "3              4         1       1   \n",
       "4              5         0       3   \n",
       "..           ...       ...     ...   \n",
       "886          887         0       2   \n",
       "887          888         1       1   \n",
       "888          889         0       3   \n",
       "889          890         1       1   \n",
       "890          891         0       3   \n",
       "\n",
       "                                                  Name     Sex   Age  SibSp  \\\n",
       "0                              Braund, Mr. Owen Harris    male  22.0      1   \n",
       "1    Cumings, Mrs. John Bradley (Florence Briggs Th...  female  38.0      1   \n",
       "2                               Heikkinen, Miss. Laina  female  26.0      0   \n",
       "3         Futrelle, Mrs. Jacques Heath (Lily May Peel)  female  35.0      1   \n",
       "4                             Allen, Mr. William Henry    male  35.0      0   \n",
       "..                                                 ...     ...   ...    ...   \n",
       "886                              Montvila, Rev. Juozas    male  27.0      0   \n",
       "887                       Graham, Miss. Margaret Edith  female  19.0      0   \n",
       "888           Johnston, Miss. Catherine Helen \"Carrie\"  female   NaN      1   \n",
       "889                              Behr, Mr. Karl Howell    male  26.0      0   \n",
       "890                                Dooley, Mr. Patrick    male  32.0      0   \n",
       "\n",
       "     Parch            Ticket     Fare Cabin Embarked  \n",
       "0        0         A/5 21171   7.2500   NaN        S  \n",
       "1        0          PC 17599  71.2833   C85        C  \n",
       "2        0  STON/O2. 3101282   7.9250   NaN        S  \n",
       "3        0            113803  53.1000  C123        S  \n",
       "4        0            373450   8.0500   NaN        S  \n",
       "..     ...               ...      ...   ...      ...  \n",
       "886      0            211536  13.0000   NaN        S  \n",
       "887      0            112053  30.0000   B42        S  \n",
       "888      2        W./C. 6607  23.4500   NaN        S  \n",
       "889      0            111369  30.0000  C148        C  \n",
       "890      0            370376   7.7500   NaN        Q  \n",
       "\n",
       "[891 rows x 12 columns]"
      ]
     },
     "execution_count": 68,
     "metadata": {},
     "output_type": "execute_result"
    }
   ],
   "source": [
    "train_data = pd.read_csv(\"train.csv\")\n",
    "test_data = pd.read_csv(\"test.csv\")\n",
    "train_data"
   ]
  },
  {
   "cell_type": "code",
   "execution_count": 69,
   "id": "392bfbd9",
   "metadata": {},
   "outputs": [
    {
     "data": {
      "text/plain": [
       "<AxesSubplot: ylabel='Frequency'>"
      ]
     },
     "execution_count": 69,
     "metadata": {},
     "output_type": "execute_result"
    },
    {
     "data": {
      "image/png": "[encoded data removed]",
      "text/plain": [
       "<Figure size 432x288 with 1 Axes>"
      ]
     },
     "metadata": {
      "needs_background": "light"
     },
     "output_type": "display_data"
    }
   ],
   "source": [
    "train_data.Fare.plot(kind = \"hist\",bins = 30)"
   ]
  },
  {
   "cell_type": "code",
   "execution_count": 70,
   "id": "46307ff6",
   "metadata": {},
   "outputs": [
    {
     "data": {
      "text/plain": [
       "<AxesSubplot: >"
      ]
     },
     "execution_count": 70,
     "metadata": {},
     "output_type": "execute_result"
    },
    {
     "data": {
      "image/png": "[encoded data removed]",
      "text/plain": [
       "<Figure size 432x288 with 1 Axes>"
      ]
     },
     "metadata": {
      "needs_background": "light"
     },
     "output_type": "display_data"
    }
   ],
   "source": [
    "train_data.Age.hist(bins = 50)"
   ]
  },
  {
   "cell_type": "code",
   "execution_count": 71,
   "id": "bf4cfa8a",
   "metadata": {},
   "outputs": [
    {
     "data": {
      "text/plain": [
       "<AxesSubplot: >"
      ]
     },
     "execution_count": 71,
     "metadata": {},
     "output_type": "execute_result"
    },
    {
     "data": {
      "image/png": "[encoded data removed]",
      "text/plain": [
       "<Figure size 432x288 with 1 Axes>"
      ]
     },
     "metadata": {
      "needs_background": "light"
     },
     "output_type": "display_data"
    }
   ],
   "source": [
    "train_data.Embarked.value_counts().plot(kind = \"bar\")"
   ]
  },
  {
   "cell_type": "code",
   "execution_count": 72,
   "id": "ed0d6427",
   "metadata": {},
   "outputs": [
    {
     "data": {
      "text/plain": [
       "Index(['PassengerId', 'Survived', 'Pclass', 'Name', 'Sex', 'Age', 'SibSp',\n",
       "       'Parch', 'Ticket', 'Fare', 'Cabin', 'Embarked'],\n",
       "      dtype='object')"
      ]
     },
     "execution_count": 72,
     "metadata": {},
     "output_type": "execute_result"
    }
   ],
   "source": [
    "train_data.columns"
   ]
  },
  {
   "cell_type": "code",
   "execution_count": 73,
   "id": "c2937dcc",
   "metadata": {},
   "outputs": [],
   "source": [
    "output_data = train_data[\"Survived\"] #891\n",
    "input_data = train_data.drop(columns = [\"Name\",\"Ticket\", \"Cabin\",\"PassengerId\"], axis = 1 ) #891"
   ]
  },
  {
   "cell_type": "code",
   "execution_count": 74,
   "id": "44970077",
   "metadata": {},
   "outputs": [],
   "source": [
    "input_data.dropna(how=\"any\",axis = 0, inplace = True) # 712\n",
    "output_data = input_data[\"Survived\"] #712"
   ]
  },
  {
   "cell_type": "code",
   "execution_count": 75,
   "id": "77688c7b",
   "metadata": {
    "scrolled": true
   },
   "outputs": [],
   "source": [
    "dummy = pd.get_dummies(input_data[\"Sex\"])\n",
    "input_data = pd.concat((input_data,dummy), axis = 1)"
   ]
  },
  {
   "cell_type": "code",
   "execution_count": 76,
   "id": "268c3e37",
   "metadata": {},
   "outputs": [],
   "source": [
    "embarked = input_data['Embarked'].replace(\"S\",1).replace(\"Q\",2).replace(\"C\",3);"
   ]
  },
  {
   "cell_type": "code",
   "execution_count": 77,
   "id": "3ef4d169",
   "metadata": {},
   "outputs": [],
   "source": [
    "input_data.drop(columns=[\"female\",\"Sex\",\"Embarked\",\"Survived\"],axis = 1, inplace = True)"
   ]
  },
  {
   "cell_type": "code",
   "execution_count": 78,
   "id": "ed801f16",
   "metadata": {},
   "outputs": [],
   "source": [
    "input_data2 = pd.concat((input_data,embarked), axis = 1)"
   ]
  },
  {
   "cell_type": "code",
   "execution_count": 79,
   "id": "e9d49097",
   "metadata": {},
   "outputs": [],
   "source": [
    "input_data2_train, input_data2_test,output_data_train, output_data_test = train_test_split(input_data2,output_data,test_size=0.2)"
   ]
  },
  {
   "cell_type": "code",
   "execution_count": 80,
   "id": "c5b46859",
   "metadata": {},
   "outputs": [],
   "source": [
    "model = DecisionTreeClassifier()\n",
    "model.fit(input_data2_train,output_data_train)\n",
    "predictions = model.predict(input_data2_test)"
   ]
  },
  {
   "cell_type": "code",
   "execution_count": 81,
   "id": "437c6c13",
   "metadata": {
    "scrolled": true
   },
   "outputs": [
    {
     "name": "stdout",
     "output_type": "stream",
     "text": [
      " The accuracy of the model is found to be : 0.7272727272727273\n"
     ]
    }
   ],
   "source": [
    "print(f\" The accuracy of the model is found to be : {accuracy_score(output_data_test,predictions)}\")"
   ]
  },
  {
   "cell_type": "code",
   "execution_count": null,
   "id": "82a06bca",
   "metadata": {},
   "outputs": [],
   "source": []
  },
  {
   "cell_type": "code",
   "execution_count": 82,
   "id": "d54137bc",
   "metadata": {},
   "outputs": [],
   "source": [
    "# out_visual = output_data.replace(0, 'Died').replace(1, 'Survived');\n",
    "# tree.export_graphviz(model,out_file=\"Titanic_visual.dot\",\n",
    "#                      feature_names = [\"Pclass\", \"Age\",\"SibSp\",\"Parch\",\"Fare\",\"male\",\"Embarked\"],\n",
    "#                      class_names = sorted(out_visual.unique()),\n",
    "#                       label = \"all\",\n",
    "#                       rounded = True,\n",
    "#                       filled = True)"
   ]
  },
  {
   "cell_type": "markdown",
   "id": "eb9ad434",
   "metadata": {},
   "source": [
    "Implementing NN"
   ]
  },
  {
   "cell_type": "code",
   "execution_count": 83,
   "id": "e5c7882a",
   "metadata": {},
   "outputs": [],
   "source": [
    "## Neural Network\n",
    "import tensorflow as tf\n",
    "from sklearn.model_selection import train_test_split\n",
    "from random import random"
   ]
  },
  {
   "cell_type": "code",
   "execution_count": 160,
   "id": "3422b96c",
   "metadata": {},
   "outputs": [
    {
     "name": "stdout",
     "output_type": "stream",
     "text": [
      "Epoch 1/150\n",
      "18/18 [==============================] - 0s 1ms/step - loss: 0.6828 - accuracy: 0.6977\n",
      "Epoch 2/150\n",
      "18/18 [==============================] - 0s 1ms/step - loss: 0.6280 - accuracy: 0.7065\n",
      "Epoch 3/150\n",
      "18/18 [==============================] - 0s 1ms/step - loss: 0.6148 - accuracy: 0.7030\n",
      "Epoch 4/150\n",
      "18/18 [==============================] - 0s 1ms/step - loss: 0.6096 - accuracy: 0.7030\n",
      "Epoch 5/150\n",
      "18/18 [==============================] - 0s 1ms/step - loss: 0.6226 - accuracy: 0.7047\n",
      "Epoch 6/150\n",
      "18/18 [==============================] - 0s 1ms/step - loss: 0.5898 - accuracy: 0.7170\n",
      "Epoch 7/150\n",
      "18/18 [==============================] - 0s 1ms/step - loss: 0.5858 - accuracy: 0.7118\n",
      "Epoch 8/150\n",
      "18/18 [==============================] - 0s 1ms/step - loss: 0.5857 - accuracy: 0.7258\n",
      "Epoch 9/150\n",
      "18/18 [==============================] - 0s 1ms/step - loss: 0.5789 - accuracy: 0.7153\n",
      "Epoch 10/150\n",
      "18/18 [==============================] - 0s 1ms/step - loss: 0.5828 - accuracy: 0.7153\n",
      "Epoch 11/150\n",
      "18/18 [==============================] - 0s 1ms/step - loss: 0.5764 - accuracy: 0.7223\n",
      "Epoch 12/150\n",
      "18/18 [==============================] - 0s 1ms/step - loss: 0.5757 - accuracy: 0.6995\n",
      "Epoch 13/150\n",
      "18/18 [==============================] - 0s 1ms/step - loss: 0.5623 - accuracy: 0.7170\n",
      "Epoch 14/150\n",
      "18/18 [==============================] - 0s 1ms/step - loss: 0.5700 - accuracy: 0.7223\n",
      "Epoch 15/150\n",
      "18/18 [==============================] - 0s 1ms/step - loss: 0.5604 - accuracy: 0.7346\n",
      "Epoch 16/150\n",
      "18/18 [==============================] - 0s 1ms/step - loss: 0.5555 - accuracy: 0.7276\n",
      "Epoch 17/150\n",
      "18/18 [==============================] - 0s 1ms/step - loss: 0.5521 - accuracy: 0.7311\n",
      "Epoch 18/150\n",
      "18/18 [==============================] - 0s 1ms/step - loss: 0.5460 - accuracy: 0.7258\n",
      "Epoch 19/150\n",
      "18/18 [==============================] - 0s 1ms/step - loss: 0.5456 - accuracy: 0.7399\n",
      "Epoch 20/150\n",
      "18/18 [==============================] - 0s 1ms/step - loss: 0.5343 - accuracy: 0.7434\n",
      "Epoch 21/150\n",
      "18/18 [==============================] - 0s 1ms/step - loss: 0.5357 - accuracy: 0.7241\n",
      "Epoch 22/150\n",
      "18/18 [==============================] - 0s 1ms/step - loss: 0.5359 - accuracy: 0.7557\n",
      "Epoch 23/150\n",
      "18/18 [==============================] - 0s 1ms/step - loss: 0.5375 - accuracy: 0.7381\n",
      "Epoch 24/150\n",
      "18/18 [==============================] - 0s 1ms/step - loss: 0.5282 - accuracy: 0.7417\n",
      "Epoch 25/150\n",
      "18/18 [==============================] - 0s 1ms/step - loss: 0.5295 - accuracy: 0.7487\n",
      "Epoch 26/150\n",
      "18/18 [==============================] - 0s 1ms/step - loss: 0.5297 - accuracy: 0.7540\n",
      "Epoch 27/150\n",
      "18/18 [==============================] - 0s 1ms/step - loss: 0.5101 - accuracy: 0.7680\n",
      "Epoch 28/150\n",
      "18/18 [==============================] - 0s 1ms/step - loss: 0.5258 - accuracy: 0.7487\n",
      "Epoch 29/150\n",
      "18/18 [==============================] - 0s 2ms/step - loss: 0.5026 - accuracy: 0.7627\n",
      "Epoch 30/150\n",
      "18/18 [==============================] - 0s 1ms/step - loss: 0.5105 - accuracy: 0.7557\n",
      "Epoch 31/150\n",
      "18/18 [==============================] - 0s 2ms/step - loss: 0.5051 - accuracy: 0.7698\n",
      "Epoch 32/150\n",
      "18/18 [==============================] - 0s 1ms/step - loss: 0.5038 - accuracy: 0.7733\n",
      "Epoch 33/150\n",
      "18/18 [==============================] - 0s 1ms/step - loss: 0.4970 - accuracy: 0.7627\n",
      "Epoch 34/150\n",
      "18/18 [==============================] - 0s 1ms/step - loss: 0.4962 - accuracy: 0.7698\n",
      "Epoch 35/150\n",
      "18/18 [==============================] - 0s 941us/step - loss: 0.4864 - accuracy: 0.7821\n",
      "Epoch 36/150\n",
      "18/18 [==============================] - 0s 941us/step - loss: 0.4912 - accuracy: 0.7786\n",
      "Epoch 37/150\n",
      "18/18 [==============================] - 0s 941us/step - loss: 0.4916 - accuracy: 0.7821\n",
      "Epoch 38/150\n",
      "18/18 [==============================] - 0s 1ms/step - loss: 0.5038 - accuracy: 0.7627\n",
      "Epoch 39/150\n",
      "18/18 [==============================] - 0s 1ms/step - loss: 0.4762 - accuracy: 0.7803\n",
      "Epoch 40/150\n",
      "18/18 [==============================] - 0s 1ms/step - loss: 0.4825 - accuracy: 0.7873\n",
      "Epoch 41/150\n",
      "18/18 [==============================] - 0s 1ms/step - loss: 0.4808 - accuracy: 0.7786\n",
      "Epoch 42/150\n",
      "18/18 [==============================] - 0s 1ms/step - loss: 0.4671 - accuracy: 0.8049\n",
      "Epoch 43/150\n",
      "18/18 [==============================] - 0s 1ms/step - loss: 0.4726 - accuracy: 0.7838\n",
      "Epoch 44/150\n",
      "18/18 [==============================] - 0s 1ms/step - loss: 0.4654 - accuracy: 0.7926\n",
      "Epoch 45/150\n",
      "18/18 [==============================] - 0s 1ms/step - loss: 0.4670 - accuracy: 0.7909\n",
      "Epoch 46/150\n",
      "18/18 [==============================] - 0s 1ms/step - loss: 0.4584 - accuracy: 0.7961\n",
      "Epoch 47/150\n",
      "18/18 [==============================] - 0s 941us/step - loss: 0.4595 - accuracy: 0.8049\n",
      "Epoch 48/150\n",
      "18/18 [==============================] - 0s 1ms/step - loss: 0.4591 - accuracy: 0.8014\n",
      "Epoch 49/150\n",
      "18/18 [==============================] - 0s 1ms/step - loss: 0.4524 - accuracy: 0.7979\n",
      "Epoch 50/150\n",
      "18/18 [==============================] - 0s 1ms/step - loss: 0.4538 - accuracy: 0.8032\n",
      "Epoch 51/150\n",
      "18/18 [==============================] - 0s 1ms/step - loss: 0.4517 - accuracy: 0.7996\n",
      "Epoch 52/150\n",
      "18/18 [==============================] - 0s 1ms/step - loss: 0.4503 - accuracy: 0.8067\n",
      "Epoch 53/150\n",
      "18/18 [==============================] - 0s 1ms/step - loss: 0.4458 - accuracy: 0.8032\n",
      "Epoch 54/150\n",
      "18/18 [==============================] - 0s 1ms/step - loss: 0.4483 - accuracy: 0.8120\n",
      "Epoch 55/150\n",
      "18/18 [==============================] - 0s 1ms/step - loss: 0.4497 - accuracy: 0.7996\n",
      "Epoch 56/150\n",
      "18/18 [==============================] - 0s 1ms/step - loss: 0.4402 - accuracy: 0.8049\n",
      "Epoch 57/150\n",
      "18/18 [==============================] - 0s 1ms/step - loss: 0.4512 - accuracy: 0.7909\n",
      "Epoch 58/150\n",
      "18/18 [==============================] - 0s 1ms/step - loss: 0.4453 - accuracy: 0.8137\n",
      "Epoch 59/150\n",
      "18/18 [==============================] - 0s 1ms/step - loss: 0.4460 - accuracy: 0.8014\n",
      "Epoch 60/150\n",
      "18/18 [==============================] - 0s 1000us/step - loss: 0.4397 - accuracy: 0.8155\n",
      "Epoch 61/150\n",
      "18/18 [==============================] - 0s 1000us/step - loss: 0.4365 - accuracy: 0.8084\n",
      "Epoch 62/150\n",
      "18/18 [==============================] - 0s 1ms/step - loss: 0.4384 - accuracy: 0.8137\n",
      "Epoch 63/150\n",
      "18/18 [==============================] - 0s 1ms/step - loss: 0.4493 - accuracy: 0.7891\n",
      "Epoch 64/150\n",
      "18/18 [==============================] - 0s 1ms/step - loss: 0.4571 - accuracy: 0.7944\n",
      "Epoch 65/150\n",
      "18/18 [==============================] - 0s 1ms/step - loss: 0.4415 - accuracy: 0.8102\n",
      "Epoch 66/150\n",
      "18/18 [==============================] - 0s 1ms/step - loss: 0.4373 - accuracy: 0.8137\n",
      "Epoch 67/150\n",
      "18/18 [==============================] - 0s 1ms/step - loss: 0.4247 - accuracy: 0.8137\n",
      "Epoch 68/150\n",
      "18/18 [==============================] - 0s 1ms/step - loss: 0.4270 - accuracy: 0.8120\n",
      "Epoch 69/150\n",
      "18/18 [==============================] - 0s 1ms/step - loss: 0.4282 - accuracy: 0.8067\n",
      "Epoch 70/150\n",
      "18/18 [==============================] - 0s 1ms/step - loss: 0.4252 - accuracy: 0.8225\n",
      "Epoch 71/150\n",
      "18/18 [==============================] - 0s 1000us/step - loss: 0.4256 - accuracy: 0.8155\n",
      "Epoch 72/150\n",
      "18/18 [==============================] - 0s 1ms/step - loss: 0.4236 - accuracy: 0.8225\n",
      "Epoch 73/150\n",
      "18/18 [==============================] - 0s 1ms/step - loss: 0.4178 - accuracy: 0.8190\n",
      "Epoch 74/150\n",
      "18/18 [==============================] - 0s 1000us/step - loss: 0.4292 - accuracy: 0.8155\n",
      "Epoch 75/150\n",
      "18/18 [==============================] - 0s 1ms/step - loss: 0.4278 - accuracy: 0.8190\n",
      "Epoch 76/150\n",
      "18/18 [==============================] - 0s 1000us/step - loss: 0.4345 - accuracy: 0.8102\n",
      "Epoch 77/150\n",
      "18/18 [==============================] - 0s 941us/step - loss: 0.4384 - accuracy: 0.8084\n",
      "Epoch 78/150\n",
      "18/18 [==============================] - 0s 1ms/step - loss: 0.4217 - accuracy: 0.8102\n",
      "Epoch 79/150\n",
      "18/18 [==============================] - 0s 941us/step - loss: 0.4181 - accuracy: 0.8243\n",
      "Epoch 80/150\n",
      "18/18 [==============================] - 0s 1ms/step - loss: 0.4215 - accuracy: 0.8102\n",
      "Epoch 81/150\n",
      "18/18 [==============================] - 0s 1ms/step - loss: 0.4184 - accuracy: 0.8155\n",
      "Epoch 82/150\n",
      "18/18 [==============================] - 0s 1ms/step - loss: 0.4176 - accuracy: 0.8084\n",
      "Epoch 83/150\n",
      "18/18 [==============================] - 0s 1ms/step - loss: 0.4217 - accuracy: 0.8137\n",
      "Epoch 84/150\n",
      "18/18 [==============================] - 0s 1ms/step - loss: 0.4182 - accuracy: 0.8243\n",
      "Epoch 85/150\n",
      "18/18 [==============================] - 0s 1ms/step - loss: 0.4167 - accuracy: 0.8137\n",
      "Epoch 86/150\n",
      "18/18 [==============================] - 0s 1ms/step - loss: 0.4159 - accuracy: 0.8207\n",
      "Epoch 87/150\n",
      "18/18 [==============================] - 0s 1ms/step - loss: 0.4170 - accuracy: 0.8172\n",
      "Epoch 88/150\n",
      "18/18 [==============================] - 0s 1ms/step - loss: 0.4191 - accuracy: 0.8155\n",
      "Epoch 89/150\n",
      "18/18 [==============================] - 0s 1ms/step - loss: 0.4236 - accuracy: 0.8207\n",
      "Epoch 90/150\n",
      "18/18 [==============================] - 0s 1ms/step - loss: 0.4128 - accuracy: 0.8225\n",
      "Epoch 91/150\n",
      "18/18 [==============================] - 0s 1ms/step - loss: 0.4153 - accuracy: 0.8225\n",
      "Epoch 92/150\n",
      "18/18 [==============================] - 0s 1ms/step - loss: 0.4258 - accuracy: 0.8137\n",
      "Epoch 93/150\n",
      "18/18 [==============================] - 0s 1ms/step - loss: 0.4457 - accuracy: 0.8120\n",
      "Epoch 94/150\n",
      "18/18 [==============================] - 0s 1ms/step - loss: 0.4295 - accuracy: 0.8207\n",
      "Epoch 95/150\n",
      "18/18 [==============================] - 0s 1ms/step - loss: 0.4100 - accuracy: 0.8225\n",
      "Epoch 96/150\n",
      "18/18 [==============================] - 0s 1ms/step - loss: 0.4101 - accuracy: 0.8137\n",
      "Epoch 97/150\n",
      "18/18 [==============================] - 0s 998us/step - loss: 0.4109 - accuracy: 0.8348\n",
      "Epoch 98/150\n",
      "18/18 [==============================] - 0s 1ms/step - loss: 0.4255 - accuracy: 0.8120\n",
      "Epoch 99/150\n",
      "18/18 [==============================] - 0s 1ms/step - loss: 0.4164 - accuracy: 0.8225\n",
      "Epoch 100/150\n",
      "18/18 [==============================] - 0s 1ms/step - loss: 0.4127 - accuracy: 0.8172\n",
      "Epoch 101/150\n",
      "18/18 [==============================] - 0s 1ms/step - loss: 0.4168 - accuracy: 0.8295\n",
      "Epoch 102/150\n",
      "18/18 [==============================] - 0s 1ms/step - loss: 0.4143 - accuracy: 0.8278\n",
      "Epoch 103/150\n",
      "18/18 [==============================] - 0s 1ms/step - loss: 0.4252 - accuracy: 0.8102\n",
      "Epoch 104/150\n",
      "18/18 [==============================] - 0s 1ms/step - loss: 0.4197 - accuracy: 0.8155\n",
      "Epoch 105/150\n",
      "18/18 [==============================] - 0s 1ms/step - loss: 0.4101 - accuracy: 0.8225\n",
      "Epoch 106/150\n",
      "18/18 [==============================] - 0s 1ms/step - loss: 0.4084 - accuracy: 0.8330\n",
      "Epoch 107/150\n",
      "18/18 [==============================] - 0s 1ms/step - loss: 0.4065 - accuracy: 0.8207\n",
      "Epoch 108/150\n",
      "18/18 [==============================] - 0s 1ms/step - loss: 0.4187 - accuracy: 0.8190\n",
      "Epoch 109/150\n",
      "18/18 [==============================] - 0s 1ms/step - loss: 0.4172 - accuracy: 0.8207\n",
      "Epoch 110/150\n",
      "18/18 [==============================] - 0s 1ms/step - loss: 0.4132 - accuracy: 0.8260\n",
      "Epoch 111/150\n",
      "18/18 [==============================] - 0s 1ms/step - loss: 0.4305 - accuracy: 0.8014\n",
      "Epoch 112/150\n",
      "18/18 [==============================] - 0s 1000us/step - loss: 0.4240 - accuracy: 0.8260\n",
      "Epoch 113/150\n",
      "18/18 [==============================] - 0s 1ms/step - loss: 0.4186 - accuracy: 0.8313\n",
      "Epoch 114/150\n",
      "18/18 [==============================] - 0s 1ms/step - loss: 0.4146 - accuracy: 0.8207\n",
      "Epoch 115/150\n",
      "18/18 [==============================] - 0s 1ms/step - loss: 0.4043 - accuracy: 0.8225\n",
      "Epoch 116/150\n",
      "18/18 [==============================] - 0s 1ms/step - loss: 0.4089 - accuracy: 0.8225\n",
      "Epoch 117/150\n",
      "18/18 [==============================] - 0s 1ms/step - loss: 0.4205 - accuracy: 0.8084\n",
      "Epoch 118/150\n",
      "18/18 [==============================] - 0s 1ms/step - loss: 0.4156 - accuracy: 0.8295\n",
      "Epoch 119/150\n",
      "18/18 [==============================] - 0s 1ms/step - loss: 0.4065 - accuracy: 0.8313\n",
      "Epoch 120/150\n",
      "18/18 [==============================] - 0s 1ms/step - loss: 0.4149 - accuracy: 0.8313\n",
      "Epoch 121/150\n",
      "18/18 [==============================] - 0s 1ms/step - loss: 0.4024 - accuracy: 0.8260\n",
      "Epoch 122/150\n",
      "18/18 [==============================] - 0s 1ms/step - loss: 0.4058 - accuracy: 0.8243\n",
      "Epoch 123/150\n",
      "18/18 [==============================] - 0s 1ms/step - loss: 0.4039 - accuracy: 0.8172\n",
      "Epoch 124/150\n",
      "18/18 [==============================] - 0s 1ms/step - loss: 0.4058 - accuracy: 0.8260\n",
      "Epoch 125/150\n",
      "18/18 [==============================] - 0s 1ms/step - loss: 0.4041 - accuracy: 0.8313\n",
      "Epoch 126/150\n",
      "18/18 [==============================] - 0s 1ms/step - loss: 0.4116 - accuracy: 0.8313\n",
      "Epoch 127/150\n",
      "18/18 [==============================] - 0s 1ms/step - loss: 0.4014 - accuracy: 0.8295\n",
      "Epoch 128/150\n",
      "18/18 [==============================] - 0s 1ms/step - loss: 0.4104 - accuracy: 0.8330\n",
      "Epoch 129/150\n",
      "18/18 [==============================] - 0s 1ms/step - loss: 0.4083 - accuracy: 0.8172\n",
      "Epoch 130/150\n",
      "18/18 [==============================] - 0s 1ms/step - loss: 0.4084 - accuracy: 0.8207\n",
      "Epoch 131/150\n",
      "18/18 [==============================] - 0s 1ms/step - loss: 0.4027 - accuracy: 0.8243\n",
      "Epoch 132/150\n",
      "18/18 [==============================] - 0s 1ms/step - loss: 0.4065 - accuracy: 0.8295\n",
      "Epoch 133/150\n",
      "18/18 [==============================] - 0s 1ms/step - loss: 0.4061 - accuracy: 0.8260\n",
      "Epoch 134/150\n",
      "18/18 [==============================] - 0s 1ms/step - loss: 0.4028 - accuracy: 0.8243\n",
      "Epoch 135/150\n",
      "18/18 [==============================] - 0s 1ms/step - loss: 0.4080 - accuracy: 0.8278\n",
      "Epoch 136/150\n",
      "18/18 [==============================] - 0s 1ms/step - loss: 0.4084 - accuracy: 0.8278\n",
      "Epoch 137/150\n",
      "18/18 [==============================] - 0s 1ms/step - loss: 0.4070 - accuracy: 0.8295\n",
      "Epoch 138/150\n",
      "18/18 [==============================] - 0s 1ms/step - loss: 0.4078 - accuracy: 0.8278\n",
      "Epoch 139/150\n",
      "18/18 [==============================] - 0s 1ms/step - loss: 0.4021 - accuracy: 0.8243\n",
      "Epoch 140/150\n",
      "18/18 [==============================] - 0s 1ms/step - loss: 0.4071 - accuracy: 0.8207\n",
      "Epoch 141/150\n",
      "18/18 [==============================] - 0s 1ms/step - loss: 0.4006 - accuracy: 0.8190\n",
      "Epoch 142/150\n",
      "18/18 [==============================] - 0s 1ms/step - loss: 0.4013 - accuracy: 0.8295\n",
      "Epoch 143/150\n",
      "18/18 [==============================] - 0s 1ms/step - loss: 0.3978 - accuracy: 0.8330\n",
      "Epoch 144/150\n",
      "18/18 [==============================] - 0s 1ms/step - loss: 0.3975 - accuracy: 0.8295\n",
      "Epoch 145/150\n",
      "18/18 [==============================] - 0s 1ms/step - loss: 0.3997 - accuracy: 0.8278\n",
      "Epoch 146/150\n",
      "18/18 [==============================] - 0s 1ms/step - loss: 0.4039 - accuracy: 0.8330\n",
      "Epoch 147/150\n",
      "18/18 [==============================] - 0s 1ms/step - loss: 0.4034 - accuracy: 0.8295\n",
      "Epoch 148/150\n",
      "18/18 [==============================] - 0s 1ms/step - loss: 0.3974 - accuracy: 0.8278\n",
      "Epoch 149/150\n",
      "18/18 [==============================] - 0s 1ms/step - loss: 0.3976 - accuracy: 0.8330\n",
      "Epoch 150/150\n",
      "18/18 [==============================] - 0s 1ms/step - loss: 0.3956 - accuracy: 0.8313\n"
     ]
    },
    {
     "data": {
      "text/plain": [
       "<keras.callbacks.History at 0x1bbbd731d30>"
      ]
     },
     "execution_count": 160,
     "metadata": {},
     "output_type": "execute_result"
    }
   ],
   "source": [
    "x_train,x_test,y_train,y_test = train_test_split(input_data2,output_data,test_size=0.2)\n",
    "x_array = np.asarray(x_train)\n",
    "y_array = np.asarray(y_train)\n",
    "y_array_test =  np.asarray(y_test)\n",
    "x_array_test = np.asarray(x_test)\n",
    "\n",
    "model2 = tf.keras.Sequential([\n",
    "        tf.keras.layers.Dense(16,input_dim = 7,activation = \"relu\"),\n",
    "        tf.keras.layers.Dense(16,activation = \"relu\"),\n",
    "        tf.keras.layers.Dense(1,activation = \"sigmoid\")\n",
    "    ])\n",
    "    #compile model\n",
    "#optimizer = tf.keras.optimizers.SGD(learning_rate = 0.1)\n",
    "model2.compile(optimizer = \"adam\",loss =\"binary_crossentropy\",metrics = [\"accuracy\"])\n",
    "\n",
    "    #train model\n",
    "model2.fit(x_array,y_array,epochs = 150,batch_size = 32)\n"
   ]
  },
  {
   "cell_type": "code",
   "execution_count": 165,
   "id": "8243fd9f",
   "metadata": {},
   "outputs": [
    {
     "name": "stdout",
     "output_type": "stream",
     "text": [
      "5/5 [==============================] - 0s 1ms/step - loss: 0.4995 - accuracy: 0.7483\n",
      "model evaluation [0.49946871399879456, 0.748251736164093]\n",
      " The accuracy of NN model is found to be : 0.965034965034965\n"
     ]
    },
    {
     "name": "stderr",
     "output_type": "stream",
     "text": [
      "C:\\Users\\amoha\\anaconda3\\lib\\site-packages\\sklearn\\base.py:450: UserWarning: X does not have valid feature names, but DecisionTreeClassifier was fitted with feature names\n",
      "  warnings.warn(\n"
     ]
    }
   ],
   "source": [
    "#evaluate model\n",
    "print(f\"model evaluation {model2.evaluate(x_array_test,y_array_test,verbose = 1)}\")\n",
    "#make predictions\n",
    "print(f\" The accuracy of NN model is found to be : {accuracy_score(y_array_test,model.predict(x_array_test))}\")"
   ]
  }
 ],
 "metadata": {
  "kernelspec": {
   "display_name": "Python 3 (ipykernel)",
   "language": "python",
   "name": "python3"
  },
  "language_info": {
   "codemirror_mode": {
    "name": "ipython",
    "version": 3
   },
   "file_extension": ".py",
   "mimetype": "text/x-python",
   "name": "python",
   "nbconvert_exporter": "python",
   "pygments_lexer": "ipython3",
   "version": "3.9.7"
  }
 },
 "nbformat": 4,
 "nbformat_minor": 5
}
